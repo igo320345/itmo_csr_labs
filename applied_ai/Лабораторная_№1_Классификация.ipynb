{
  "cells": [
    {
      "cell_type": "markdown",
      "metadata": {
        "id": "4XicwJpvnguz"
      },
      "source": [
        "# Практическое задание № 1. Классификация\n"
      ]
    },
    {
      "cell_type": "markdown",
      "metadata": {
        "id": "uzsNZ_EOngu1"
      },
      "source": [
        "**Работу выполнил (а):**\n",
        "\n",
        "Ткачёв Игорь Юрьевич, 368912"
      ]
    },
    {
      "cell_type": "markdown",
      "metadata": {
        "datalore": {
          "hide_input_from_viewers": true,
          "hide_output_from_viewers": true,
          "node_id": "65baONV00WsOUl0mBEn7mB",
          "type": "MD"
        },
        "id": "kdqe9jJ2ngu1"
      },
      "source": [
        "# Распознавание активности человека на основе данных с мобильных сенсоров\n",
        "\n",
        "Необходимо по данным с мобильных сенсоров при помощи прикладных алгоритмов машинного обучения предсказать активность человека по шести классам движений:\n",
        "* Движется по прямой\n",
        "* Движется вверх (например, движение по лестнице вверх)\n",
        "* Движется вниз (например, движение по лестнице вниз)\n",
        "* Сидит\n",
        "* Стоит\n",
        "* Лежит\n",
        "\n",
        "## Сведения о наборе данных\n",
        "Набор данных содержит записи датчиков со сматфонов (акселерометр и гироскоп с частотой дискретизации 50 Гц) от 30 участников, выполняющих следующие действия: ходьба, ходьба по лестнице, ходьба по лестнице, сидение, стояние и лежание. Данные были предварительно обработаны при помощи фильтров шума. Набор данных представлен Хорхе Л. Рейес-Ортисом.\n",
        "\n",
        "Признаки были извлечены из 3-х осевых необработанных сигналов акселерометра и гироскопа tAcc-XYZ и tGyro-XYZ. Эти сигналы были сняты с постоянной частотой 50 Гц. Затем были отфильтрованны с помощью медианного фильтра и низкочастотного фильтра Баттерворта 3-го порядка с частотой 20 Гц для удаления шумов. Аналогичным образом сигнал ускорения был разделен на сигналы ускорения тела и гравитации (`tBodyAcc-XYZ` и `tGravityAcc-XYZ`) с помощью другого низкочастотного фильтра Баттерворта с угловой частотой 0,3 Гц. Линейное ускорение тела и угловая скорость были использованы для получения сигналов \"рывка\" — (`tBodyAccJerk-XYZ` и `tBodyGyroJerk-XYZ`). Также величина этих трехмерных сигналов была расчитана с использованием евклидовой нормы — (`tBodyAccMag`, `tGravityAccMag`, `tBodyAccJerkMag`, `tBodyGyroMag`, `tBodyGyroJerkMag`).\n",
        "\n",
        "Наконец, к некоторым из этих сигналов было применено быстрое преобразование Фурье (БПФ), в результате чего получились `fBodyAcc-XYZ`, `fBodyAccJerk-XYZ`, `fBodyGyro-XYZ`, `fBodyAccJerkMag`, `fBodyGyroMag`, `fBodyGyroJerkMag`. (Обратите внимание на \"f\" для обозначения сигналов в частотной области).\n",
        "\n",
        "Набор переменных, которые были оценены по этим сигналам, следующий:\n",
        "* mean(): Среднее значение\n",
        "* std(): Стандартное отклонение\n",
        "* mad(): Среднее абсолютное отклонение\n",
        "* max(): Наибольшее значение в массиве\n",
        "* min(): Наименьшее значение в массиве\n",
        "* sma(): Область величины сигнала\n",
        "* energy(): Мера энергии. Сумма квадратов, деленная на количество значений.\n",
        "* iqr(): Интерквартильный размах\n",
        "* entropy(): Энтропия сигнала\n",
        "* arCoeff(): Коэффициенты авторегрессии с порядком Burg, равным 4\n",
        "* correlation(): коэффициент корреляции между двумя сигналами\n",
        "* maxInds(): индекс частотной составляющей с наибольшей величиной\n",
        "* meanFreq(): средневзвешенное значение частотных компонент для получения средней частоты\n",
        "* skewness(): перекос сигнала в частотной области\n",
        "* kurtosis(): эксцесс сигнала в частотной области\n",
        "* bandsEnergy(): Энергия частотного интервала в пределах 64 бинов БПФ каждого окна.\n",
        "* angle(): Угол между векторами.\n",
        "## Импорт библиотек\n",
        "Первым делом импортируем необходимые библиотеки для работы с данными:"
      ]
    },
    {
      "cell_type": "code",
      "execution_count": 1,
      "metadata": {
        "datalore": {
          "hide_input_from_viewers": true,
          "hide_output_from_viewers": true,
          "node_id": "TzA30C5txlPCx905qKUzmx",
          "type": "CODE"
        },
        "id": "vo-yxq29ngu2"
      },
      "outputs": [],
      "source": [
        "import os\n",
        "import numpy as np\n",
        "import pandas as pd"
      ]
    },
    {
      "cell_type": "code",
      "source": [
        "from google.colab import drive\n",
        "drive.mount('/content/drive')"
      ],
      "metadata": {
        "colab": {
          "base_uri": "https://localhost:8080/"
        },
        "id": "jKr1_Wu9aX3Y",
        "outputId": "7f671cf1-2da4-4173-f94e-d4c12d34bca0"
      },
      "execution_count": 2,
      "outputs": [
        {
          "output_type": "stream",
          "name": "stdout",
          "text": [
            "Mounted at /content/drive\n"
          ]
        }
      ]
    },
    {
      "cell_type": "markdown",
      "metadata": {
        "datalore": {
          "hide_input_from_viewers": true,
          "hide_output_from_viewers": true,
          "node_id": "nD59cMaNdT5dJig8Kb7R1X",
          "type": "MD"
        },
        "id": "uwQd4-nIngu2"
      },
      "source": [
        "## Считываем набор данных\n",
        "\n",
        "В прикладных задачах машинного обучения очень важен процесс извлечения признаков (feature extraction), в ходе которого данные интерпретируются в информативные признаки. Также этот процесс может называться проектирование признаков (feature engineering), это весьма трудоемкая и творческая задача. В рамках работы мы опустим эту часть и воспользуемся предобработанными данными."
      ]
    },
    {
      "cell_type": "code",
      "execution_count": 4,
      "metadata": {
        "datalore": {
          "hide_input_from_viewers": true,
          "hide_output_from_viewers": true,
          "node_id": "vpBrpkTQTOee0O87NtQUy4",
          "type": "CODE"
        },
        "id": "WtlKLni6ngu2",
        "colab": {
          "base_uri": "https://localhost:8080/",
          "height": 273
        },
        "outputId": "9b3d928a-c8bb-43b6-db93-dcac99e6fb38"
      },
      "outputs": [
        {
          "output_type": "execute_result",
          "data": {
            "text/plain": [
              "   tBodyAcc-mean()-X  tBodyAcc-mean()-Y  tBodyAcc-mean()-Z  tBodyAcc-std()-X  \\\n",
              "0           0.288585          -0.020294          -0.132905         -0.995279   \n",
              "1           0.278419          -0.016411          -0.123520         -0.998245   \n",
              "2           0.279653          -0.019467          -0.113462         -0.995380   \n",
              "3           0.279174          -0.026201          -0.123283         -0.996091   \n",
              "4           0.276629          -0.016570          -0.115362         -0.998139   \n",
              "\n",
              "   tBodyAcc-std()-Y  tBodyAcc-std()-Z  tBodyAcc-mad()-X  tBodyAcc-mad()-Y  \\\n",
              "0         -0.983111         -0.913526         -0.995112         -0.983185   \n",
              "1         -0.975300         -0.960322         -0.998807         -0.974914   \n",
              "2         -0.967187         -0.978944         -0.996520         -0.963668   \n",
              "3         -0.983403         -0.990675         -0.997099         -0.982750   \n",
              "4         -0.980817         -0.990482         -0.998321         -0.979672   \n",
              "\n",
              "   tBodyAcc-mad()-Z  tBodyAcc-max()-X  ...  fBodyBodyGyroJerkMag-kurtosis()  \\\n",
              "0         -0.923527         -0.934724  ...                        -0.710304   \n",
              "1         -0.957686         -0.943068  ...                        -0.861499   \n",
              "2         -0.977469         -0.938692  ...                        -0.760104   \n",
              "3         -0.989302         -0.938692  ...                        -0.482845   \n",
              "4         -0.990441         -0.942469  ...                        -0.699205   \n",
              "\n",
              "   angle(tBodyAccMean,gravity)  angle(tBodyAccJerkMean),gravityMean)  \\\n",
              "0                    -0.112754                              0.030400   \n",
              "1                     0.053477                             -0.007435   \n",
              "2                    -0.118559                              0.177899   \n",
              "3                    -0.036788                             -0.012892   \n",
              "4                     0.123320                              0.122542   \n",
              "\n",
              "   angle(tBodyGyroMean,gravityMean)  angle(tBodyGyroJerkMean,gravityMean)  \\\n",
              "0                         -0.464761                             -0.018446   \n",
              "1                         -0.732626                              0.703511   \n",
              "2                          0.100699                              0.808529   \n",
              "3                          0.640011                             -0.485366   \n",
              "4                          0.693578                             -0.615971   \n",
              "\n",
              "   angle(X,gravityMean)  angle(Y,gravityMean)  angle(Z,gravityMean)  subject  \\\n",
              "0             -0.841247              0.179941             -0.058627        1   \n",
              "1             -0.844788              0.180289             -0.054317        1   \n",
              "2             -0.848933              0.180637             -0.049118        1   \n",
              "3             -0.848649              0.181935             -0.047663        1   \n",
              "4             -0.847865              0.185151             -0.043892        1   \n",
              "\n",
              "   Activity  \n",
              "0  STANDING  \n",
              "1  STANDING  \n",
              "2  STANDING  \n",
              "3  STANDING  \n",
              "4  STANDING  \n",
              "\n",
              "[5 rows x 563 columns]"
            ],
            "text/html": [
              "\n",
              "  <div id=\"df-35b5fedc-6acd-43e0-a132-35184c2ecca5\" class=\"colab-df-container\">\n",
              "    <div>\n",
              "<style scoped>\n",
              "    .dataframe tbody tr th:only-of-type {\n",
              "        vertical-align: middle;\n",
              "    }\n",
              "\n",
              "    .dataframe tbody tr th {\n",
              "        vertical-align: top;\n",
              "    }\n",
              "\n",
              "    .dataframe thead th {\n",
              "        text-align: right;\n",
              "    }\n",
              "</style>\n",
              "<table border=\"1\" class=\"dataframe\">\n",
              "  <thead>\n",
              "    <tr style=\"text-align: right;\">\n",
              "      <th></th>\n",
              "      <th>tBodyAcc-mean()-X</th>\n",
              "      <th>tBodyAcc-mean()-Y</th>\n",
              "      <th>tBodyAcc-mean()-Z</th>\n",
              "      <th>tBodyAcc-std()-X</th>\n",
              "      <th>tBodyAcc-std()-Y</th>\n",
              "      <th>tBodyAcc-std()-Z</th>\n",
              "      <th>tBodyAcc-mad()-X</th>\n",
              "      <th>tBodyAcc-mad()-Y</th>\n",
              "      <th>tBodyAcc-mad()-Z</th>\n",
              "      <th>tBodyAcc-max()-X</th>\n",
              "      <th>...</th>\n",
              "      <th>fBodyBodyGyroJerkMag-kurtosis()</th>\n",
              "      <th>angle(tBodyAccMean,gravity)</th>\n",
              "      <th>angle(tBodyAccJerkMean),gravityMean)</th>\n",
              "      <th>angle(tBodyGyroMean,gravityMean)</th>\n",
              "      <th>angle(tBodyGyroJerkMean,gravityMean)</th>\n",
              "      <th>angle(X,gravityMean)</th>\n",
              "      <th>angle(Y,gravityMean)</th>\n",
              "      <th>angle(Z,gravityMean)</th>\n",
              "      <th>subject</th>\n",
              "      <th>Activity</th>\n",
              "    </tr>\n",
              "  </thead>\n",
              "  <tbody>\n",
              "    <tr>\n",
              "      <th>0</th>\n",
              "      <td>0.288585</td>\n",
              "      <td>-0.020294</td>\n",
              "      <td>-0.132905</td>\n",
              "      <td>-0.995279</td>\n",
              "      <td>-0.983111</td>\n",
              "      <td>-0.913526</td>\n",
              "      <td>-0.995112</td>\n",
              "      <td>-0.983185</td>\n",
              "      <td>-0.923527</td>\n",
              "      <td>-0.934724</td>\n",
              "      <td>...</td>\n",
              "      <td>-0.710304</td>\n",
              "      <td>-0.112754</td>\n",
              "      <td>0.030400</td>\n",
              "      <td>-0.464761</td>\n",
              "      <td>-0.018446</td>\n",
              "      <td>-0.841247</td>\n",
              "      <td>0.179941</td>\n",
              "      <td>-0.058627</td>\n",
              "      <td>1</td>\n",
              "      <td>STANDING</td>\n",
              "    </tr>\n",
              "    <tr>\n",
              "      <th>1</th>\n",
              "      <td>0.278419</td>\n",
              "      <td>-0.016411</td>\n",
              "      <td>-0.123520</td>\n",
              "      <td>-0.998245</td>\n",
              "      <td>-0.975300</td>\n",
              "      <td>-0.960322</td>\n",
              "      <td>-0.998807</td>\n",
              "      <td>-0.974914</td>\n",
              "      <td>-0.957686</td>\n",
              "      <td>-0.943068</td>\n",
              "      <td>...</td>\n",
              "      <td>-0.861499</td>\n",
              "      <td>0.053477</td>\n",
              "      <td>-0.007435</td>\n",
              "      <td>-0.732626</td>\n",
              "      <td>0.703511</td>\n",
              "      <td>-0.844788</td>\n",
              "      <td>0.180289</td>\n",
              "      <td>-0.054317</td>\n",
              "      <td>1</td>\n",
              "      <td>STANDING</td>\n",
              "    </tr>\n",
              "    <tr>\n",
              "      <th>2</th>\n",
              "      <td>0.279653</td>\n",
              "      <td>-0.019467</td>\n",
              "      <td>-0.113462</td>\n",
              "      <td>-0.995380</td>\n",
              "      <td>-0.967187</td>\n",
              "      <td>-0.978944</td>\n",
              "      <td>-0.996520</td>\n",
              "      <td>-0.963668</td>\n",
              "      <td>-0.977469</td>\n",
              "      <td>-0.938692</td>\n",
              "      <td>...</td>\n",
              "      <td>-0.760104</td>\n",
              "      <td>-0.118559</td>\n",
              "      <td>0.177899</td>\n",
              "      <td>0.100699</td>\n",
              "      <td>0.808529</td>\n",
              "      <td>-0.848933</td>\n",
              "      <td>0.180637</td>\n",
              "      <td>-0.049118</td>\n",
              "      <td>1</td>\n",
              "      <td>STANDING</td>\n",
              "    </tr>\n",
              "    <tr>\n",
              "      <th>3</th>\n",
              "      <td>0.279174</td>\n",
              "      <td>-0.026201</td>\n",
              "      <td>-0.123283</td>\n",
              "      <td>-0.996091</td>\n",
              "      <td>-0.983403</td>\n",
              "      <td>-0.990675</td>\n",
              "      <td>-0.997099</td>\n",
              "      <td>-0.982750</td>\n",
              "      <td>-0.989302</td>\n",
              "      <td>-0.938692</td>\n",
              "      <td>...</td>\n",
              "      <td>-0.482845</td>\n",
              "      <td>-0.036788</td>\n",
              "      <td>-0.012892</td>\n",
              "      <td>0.640011</td>\n",
              "      <td>-0.485366</td>\n",
              "      <td>-0.848649</td>\n",
              "      <td>0.181935</td>\n",
              "      <td>-0.047663</td>\n",
              "      <td>1</td>\n",
              "      <td>STANDING</td>\n",
              "    </tr>\n",
              "    <tr>\n",
              "      <th>4</th>\n",
              "      <td>0.276629</td>\n",
              "      <td>-0.016570</td>\n",
              "      <td>-0.115362</td>\n",
              "      <td>-0.998139</td>\n",
              "      <td>-0.980817</td>\n",
              "      <td>-0.990482</td>\n",
              "      <td>-0.998321</td>\n",
              "      <td>-0.979672</td>\n",
              "      <td>-0.990441</td>\n",
              "      <td>-0.942469</td>\n",
              "      <td>...</td>\n",
              "      <td>-0.699205</td>\n",
              "      <td>0.123320</td>\n",
              "      <td>0.122542</td>\n",
              "      <td>0.693578</td>\n",
              "      <td>-0.615971</td>\n",
              "      <td>-0.847865</td>\n",
              "      <td>0.185151</td>\n",
              "      <td>-0.043892</td>\n",
              "      <td>1</td>\n",
              "      <td>STANDING</td>\n",
              "    </tr>\n",
              "  </tbody>\n",
              "</table>\n",
              "<p>5 rows × 563 columns</p>\n",
              "</div>\n",
              "    <div class=\"colab-df-buttons\">\n",
              "\n",
              "  <div class=\"colab-df-container\">\n",
              "    <button class=\"colab-df-convert\" onclick=\"convertToInteractive('df-35b5fedc-6acd-43e0-a132-35184c2ecca5')\"\n",
              "            title=\"Convert this dataframe to an interactive table.\"\n",
              "            style=\"display:none;\">\n",
              "\n",
              "  <svg xmlns=\"http://www.w3.org/2000/svg\" height=\"24px\" viewBox=\"0 -960 960 960\">\n",
              "    <path d=\"M120-120v-720h720v720H120Zm60-500h600v-160H180v160Zm220 220h160v-160H400v160Zm0 220h160v-160H400v160ZM180-400h160v-160H180v160Zm440 0h160v-160H620v160ZM180-180h160v-160H180v160Zm440 0h160v-160H620v160Z\"/>\n",
              "  </svg>\n",
              "    </button>\n",
              "\n",
              "  <style>\n",
              "    .colab-df-container {\n",
              "      display:flex;\n",
              "      gap: 12px;\n",
              "    }\n",
              "\n",
              "    .colab-df-convert {\n",
              "      background-color: #E8F0FE;\n",
              "      border: none;\n",
              "      border-radius: 50%;\n",
              "      cursor: pointer;\n",
              "      display: none;\n",
              "      fill: #1967D2;\n",
              "      height: 32px;\n",
              "      padding: 0 0 0 0;\n",
              "      width: 32px;\n",
              "    }\n",
              "\n",
              "    .colab-df-convert:hover {\n",
              "      background-color: #E2EBFA;\n",
              "      box-shadow: 0px 1px 2px rgba(60, 64, 67, 0.3), 0px 1px 3px 1px rgba(60, 64, 67, 0.15);\n",
              "      fill: #174EA6;\n",
              "    }\n",
              "\n",
              "    .colab-df-buttons div {\n",
              "      margin-bottom: 4px;\n",
              "    }\n",
              "\n",
              "    [theme=dark] .colab-df-convert {\n",
              "      background-color: #3B4455;\n",
              "      fill: #D2E3FC;\n",
              "    }\n",
              "\n",
              "    [theme=dark] .colab-df-convert:hover {\n",
              "      background-color: #434B5C;\n",
              "      box-shadow: 0px 1px 3px 1px rgba(0, 0, 0, 0.15);\n",
              "      filter: drop-shadow(0px 1px 2px rgba(0, 0, 0, 0.3));\n",
              "      fill: #FFFFFF;\n",
              "    }\n",
              "  </style>\n",
              "\n",
              "    <script>\n",
              "      const buttonEl =\n",
              "        document.querySelector('#df-35b5fedc-6acd-43e0-a132-35184c2ecca5 button.colab-df-convert');\n",
              "      buttonEl.style.display =\n",
              "        google.colab.kernel.accessAllowed ? 'block' : 'none';\n",
              "\n",
              "      async function convertToInteractive(key) {\n",
              "        const element = document.querySelector('#df-35b5fedc-6acd-43e0-a132-35184c2ecca5');\n",
              "        const dataTable =\n",
              "          await google.colab.kernel.invokeFunction('convertToInteractive',\n",
              "                                                    [key], {});\n",
              "        if (!dataTable) return;\n",
              "\n",
              "        const docLinkHtml = 'Like what you see? Visit the ' +\n",
              "          '<a target=\"_blank\" href=https://colab.research.google.com/notebooks/data_table.ipynb>data table notebook</a>'\n",
              "          + ' to learn more about interactive tables.';\n",
              "        element.innerHTML = '';\n",
              "        dataTable['output_type'] = 'display_data';\n",
              "        await google.colab.output.renderOutput(dataTable, element);\n",
              "        const docLink = document.createElement('div');\n",
              "        docLink.innerHTML = docLinkHtml;\n",
              "        element.appendChild(docLink);\n",
              "      }\n",
              "    </script>\n",
              "  </div>\n",
              "\n",
              "\n",
              "<div id=\"df-c1b325cb-9fc2-4448-bc37-c84f0a7fab40\">\n",
              "  <button class=\"colab-df-quickchart\" onclick=\"quickchart('df-c1b325cb-9fc2-4448-bc37-c84f0a7fab40')\"\n",
              "            title=\"Suggest charts\"\n",
              "            style=\"display:none;\">\n",
              "\n",
              "<svg xmlns=\"http://www.w3.org/2000/svg\" height=\"24px\"viewBox=\"0 0 24 24\"\n",
              "     width=\"24px\">\n",
              "    <g>\n",
              "        <path d=\"M19 3H5c-1.1 0-2 .9-2 2v14c0 1.1.9 2 2 2h14c1.1 0 2-.9 2-2V5c0-1.1-.9-2-2-2zM9 17H7v-7h2v7zm4 0h-2V7h2v10zm4 0h-2v-4h2v4z\"/>\n",
              "    </g>\n",
              "</svg>\n",
              "  </button>\n",
              "\n",
              "<style>\n",
              "  .colab-df-quickchart {\n",
              "      --bg-color: #E8F0FE;\n",
              "      --fill-color: #1967D2;\n",
              "      --hover-bg-color: #E2EBFA;\n",
              "      --hover-fill-color: #174EA6;\n",
              "      --disabled-fill-color: #AAA;\n",
              "      --disabled-bg-color: #DDD;\n",
              "  }\n",
              "\n",
              "  [theme=dark] .colab-df-quickchart {\n",
              "      --bg-color: #3B4455;\n",
              "      --fill-color: #D2E3FC;\n",
              "      --hover-bg-color: #434B5C;\n",
              "      --hover-fill-color: #FFFFFF;\n",
              "      --disabled-bg-color: #3B4455;\n",
              "      --disabled-fill-color: #666;\n",
              "  }\n",
              "\n",
              "  .colab-df-quickchart {\n",
              "    background-color: var(--bg-color);\n",
              "    border: none;\n",
              "    border-radius: 50%;\n",
              "    cursor: pointer;\n",
              "    display: none;\n",
              "    fill: var(--fill-color);\n",
              "    height: 32px;\n",
              "    padding: 0;\n",
              "    width: 32px;\n",
              "  }\n",
              "\n",
              "  .colab-df-quickchart:hover {\n",
              "    background-color: var(--hover-bg-color);\n",
              "    box-shadow: 0 1px 2px rgba(60, 64, 67, 0.3), 0 1px 3px 1px rgba(60, 64, 67, 0.15);\n",
              "    fill: var(--button-hover-fill-color);\n",
              "  }\n",
              "\n",
              "  .colab-df-quickchart-complete:disabled,\n",
              "  .colab-df-quickchart-complete:disabled:hover {\n",
              "    background-color: var(--disabled-bg-color);\n",
              "    fill: var(--disabled-fill-color);\n",
              "    box-shadow: none;\n",
              "  }\n",
              "\n",
              "  .colab-df-spinner {\n",
              "    border: 2px solid var(--fill-color);\n",
              "    border-color: transparent;\n",
              "    border-bottom-color: var(--fill-color);\n",
              "    animation:\n",
              "      spin 1s steps(1) infinite;\n",
              "  }\n",
              "\n",
              "  @keyframes spin {\n",
              "    0% {\n",
              "      border-color: transparent;\n",
              "      border-bottom-color: var(--fill-color);\n",
              "      border-left-color: var(--fill-color);\n",
              "    }\n",
              "    20% {\n",
              "      border-color: transparent;\n",
              "      border-left-color: var(--fill-color);\n",
              "      border-top-color: var(--fill-color);\n",
              "    }\n",
              "    30% {\n",
              "      border-color: transparent;\n",
              "      border-left-color: var(--fill-color);\n",
              "      border-top-color: var(--fill-color);\n",
              "      border-right-color: var(--fill-color);\n",
              "    }\n",
              "    40% {\n",
              "      border-color: transparent;\n",
              "      border-right-color: var(--fill-color);\n",
              "      border-top-color: var(--fill-color);\n",
              "    }\n",
              "    60% {\n",
              "      border-color: transparent;\n",
              "      border-right-color: var(--fill-color);\n",
              "    }\n",
              "    80% {\n",
              "      border-color: transparent;\n",
              "      border-right-color: var(--fill-color);\n",
              "      border-bottom-color: var(--fill-color);\n",
              "    }\n",
              "    90% {\n",
              "      border-color: transparent;\n",
              "      border-bottom-color: var(--fill-color);\n",
              "    }\n",
              "  }\n",
              "</style>\n",
              "\n",
              "  <script>\n",
              "    async function quickchart(key) {\n",
              "      const quickchartButtonEl =\n",
              "        document.querySelector('#' + key + ' button');\n",
              "      quickchartButtonEl.disabled = true;  // To prevent multiple clicks.\n",
              "      quickchartButtonEl.classList.add('colab-df-spinner');\n",
              "      try {\n",
              "        const charts = await google.colab.kernel.invokeFunction(\n",
              "            'suggestCharts', [key], {});\n",
              "      } catch (error) {\n",
              "        console.error('Error during call to suggestCharts:', error);\n",
              "      }\n",
              "      quickchartButtonEl.classList.remove('colab-df-spinner');\n",
              "      quickchartButtonEl.classList.add('colab-df-quickchart-complete');\n",
              "    }\n",
              "    (() => {\n",
              "      let quickchartButtonEl =\n",
              "        document.querySelector('#df-c1b325cb-9fc2-4448-bc37-c84f0a7fab40 button');\n",
              "      quickchartButtonEl.style.display =\n",
              "        google.colab.kernel.accessAllowed ? 'block' : 'none';\n",
              "    })();\n",
              "  </script>\n",
              "</div>\n",
              "\n",
              "    </div>\n",
              "  </div>\n"
            ],
            "application/vnd.google.colaboratory.intrinsic+json": {
              "type": "dataframe",
              "variable_name": "df"
            }
          },
          "metadata": {},
          "execution_count": 4
        }
      ],
      "source": [
        "def read_data(path, filename):\n",
        "    return pd.read_csv(os.path.join(path, filename))\n",
        "\n",
        "df = read_data('/content/drive/MyDrive/itmo_ai/lab1', 'train.csv')\n",
        "df.head()"
      ]
    },
    {
      "cell_type": "markdown",
      "metadata": {
        "datalore": {
          "hide_input_from_viewers": true,
          "hide_output_from_viewers": true,
          "node_id": "1OJVLWWQ1b55HKqquqaCpb",
          "type": "MD"
        },
        "id": "9pW7qwZhngu3"
      },
      "source": [
        "Теперь, загрузим полный набор данных и сохранить его под следующими четырьмя переменными:\n",
        "\n",
        "* `train_X`: признаки, используемые для обучения модели\n",
        "* `train_y`: метки, используемые для обучения модели\n",
        "* `test_X`: признаки, используемые для проверки модели\n",
        "* `test_y`: метки, используемые для проверки модели"
      ]
    },
    {
      "cell_type": "code",
      "execution_count": 5,
      "metadata": {
        "datalore": {
          "hide_input_from_viewers": true,
          "hide_output_from_viewers": true,
          "node_id": "umrZvD6ekBlIjjgq1F4hDE",
          "type": "CODE"
        },
        "id": "Cw94P0Ubngu3"
      },
      "outputs": [],
      "source": [
        "def load_dataset(label_dict):\n",
        "    train_X = read_data('/content/drive/MyDrive/itmo_ai/lab1', 'train.csv').values[:,:-2]\n",
        "    train_y = read_data('/content/drive/MyDrive/itmo_ai/lab1', 'train.csv')['Activity']\n",
        "    train_y = train_y.map(label_dict).values\n",
        "    test_X = read_data('/content/drive/MyDrive/itmo_ai/lab1', 'test.csv').values[:,:-2]\n",
        "    test_y = read_data('/content/drive/MyDrive/itmo_ai/lab1', 'test.csv')\n",
        "    test_y = test_y['Activity'].map(label_dict).values\n",
        "    return(train_X, train_y, test_X, test_y)\n",
        "label_dict = {'WALKING':0, 'WALKING_UPSTAIRS':1, 'WALKING_DOWNSTAIRS':2, 'SITTING':3, 'STANDING':4, 'LAYING':5}\n",
        "train_X, train_y, test_X, test_y = load_dataset(label_dict)"
      ]
    },
    {
      "cell_type": "markdown",
      "metadata": {
        "datalore": {
          "hide_input_from_viewers": true,
          "hide_output_from_viewers": true,
          "node_id": "rzFpETjrvFpl2hD2bD7jYC",
          "type": "MD"
        },
        "id": "zn1NwH8Mngu3"
      },
      "source": [
        "## Выбор модели\n",
        "\n",
        "Импортируйте выбранную вами модель из библиотеки `sklearn` и инициализируйте её в объект `model`:\n",
        "\n",
        "Также необходимо выбрать **несколько** моделей ML для сравнения полученных результатов."
      ]
    },
    {
      "cell_type": "code",
      "execution_count": 28,
      "metadata": {
        "datalore": {
          "hide_input_from_viewers": true,
          "hide_output_from_viewers": true,
          "node_id": "YJ9zPxZwd9nVxkWVvE1Ua9",
          "type": "CODE"
        },
        "id": "8ikzkhuKngu3"
      },
      "outputs": [],
      "source": [
        "from sklearn.neighbors import KNeighborsClassifier\n",
        "from sklearn.naive_bayes import GaussianNB, BernoulliNB, MultinomialNB\n",
        "from sklearn import svm"
      ]
    },
    {
      "cell_type": "markdown",
      "metadata": {
        "datalore": {
          "hide_input_from_viewers": true,
          "hide_output_from_viewers": true,
          "node_id": "oldNCMdBVzl09OIOauCL7P",
          "type": "MD"
        },
        "id": "V0YU3rrMngu3"
      },
      "source": [
        "Выберем три модели для задачи классификации: k-ближайших соседей, наивный байес, метод опорных векторов."
      ]
    },
    {
      "cell_type": "markdown",
      "metadata": {
        "datalore": {
          "hide_input_from_viewers": true,
          "hide_output_from_viewers": true,
          "node_id": "HhCKE5nr9ZzWXIefwTXzuq",
          "type": "MD"
        },
        "id": "cjcQL5oWngu3"
      },
      "source": [
        "## Обучение модели\n",
        "\n",
        "Обучите модель, используя признаки из обучающего набора (`train_X`) и метки в качестве базовой истины (`train_y`)."
      ]
    },
    {
      "cell_type": "code",
      "execution_count": 52,
      "metadata": {
        "datalore": {
          "hide_input_from_viewers": true,
          "hide_output_from_viewers": true,
          "node_id": "Dvg6HvHJDHHEIHEdXFnrnh",
          "type": "CODE"
        },
        "id": "GkaQFP2Tngu4"
      },
      "outputs": [],
      "source": [
        "knn_results = {\"euclidean\": [], \"manhattan\": [], \"chebyshev\": []}\n",
        "for distance_type in [\"euclidean\", \"manhattan\", \"chebyshev\"]:\n",
        "      knn_model = KNeighborsClassifier(n_neighbors=6, metric=distance_type)\n",
        "      knn_model.fit(train_X, train_y)\n",
        "      knn_yhat = knn_model.predict(test_X)\n",
        "      knn_results[distance_type] = knn_yhat"
      ]
    },
    {
      "cell_type": "code",
      "source": [
        "bayes_results = {\"gaussian\": [], \"bernoulli\": []}\n",
        "for distribution_type in [\"gaussian\", \"bernoulli\"]:\n",
        "      if distribution_type == \"gaussian\":\n",
        "        bayes_model = GaussianNB()\n",
        "      if distribution_type == \"bernoulli\":\n",
        "        bayes_model = BernoulliNB()\n",
        "      bayes_model.fit(train_X, train_y)\n",
        "      bayes_yhat = bayes_model.predict(test_X)\n",
        "      bayes_results[distribution_type] = bayes_yhat\n"
      ],
      "metadata": {
        "id": "S0xFz2MdeJ-A"
      },
      "execution_count": 41,
      "outputs": []
    },
    {
      "cell_type": "code",
      "source": [
        "svm_results = {\"linear\": [], \"rbf\": []}\n",
        "for kernel_type in [\"linear\", \"rbf\"]:\n",
        "      svm_model = svm.SVC(kernel=kernel_type)\n",
        "      svm_model.fit(train_X, train_y)\n",
        "      svm_yhat = svm_model.predict(test_X)\n",
        "      svm_results[kernel_type] = svm_yhat"
      ],
      "metadata": {
        "id": "8jdSE1bYeQBG"
      },
      "execution_count": 42,
      "outputs": []
    },
    {
      "cell_type": "markdown",
      "metadata": {
        "datalore": {
          "hide_input_from_viewers": true,
          "hide_output_from_viewers": true,
          "node_id": "RlwxdG1csNqjt5MwA3xRdd",
          "type": "MD"
        },
        "id": "2abBbw7bngu4"
      },
      "source": [
        "## Оценка модели\n",
        "Используйте обученную модель для прогнозирования активности движения, используя признаки из тестового набора (`test_X`). Прогнозы сохраните в списке `yhat`."
      ]
    },
    {
      "cell_type": "code",
      "execution_count": 53,
      "metadata": {
        "datalore": {
          "hide_input_from_viewers": true,
          "hide_output_from_viewers": true,
          "node_id": "O1n5AL0m65kfoRsQB5z71P",
          "type": "CODE"
        },
        "id": "1sBSWMpangu4",
        "colab": {
          "base_uri": "https://localhost:8080/"
        },
        "outputId": "1fa58c3f-7518-4b61-ff30-ca5607c7d973"
      },
      "outputs": [
        {
          "output_type": "stream",
          "name": "stdout",
          "text": [
            "Euclidian\n",
            "                    precision    recall  f1-score   support\n",
            "\n",
            "           Walking       0.83      0.98      0.90       496\n",
            "  Walking Upstairs       0.90      0.89      0.89       471\n",
            "Walking Downstairs       0.96      0.76      0.85       420\n",
            "           Sitting       0.88      0.86      0.87       491\n",
            "          Standing       0.87      0.89      0.88       532\n",
            "            Laying       1.00      0.99      1.00       537\n",
            "\n",
            "          accuracy                           0.90      2947\n",
            "         macro avg       0.91      0.90      0.90      2947\n",
            "      weighted avg       0.91      0.90      0.90      2947\n",
            "\n",
            "Manhattan\n",
            "                    precision    recall  f1-score   support\n",
            "\n",
            "           Walking       0.85      0.98      0.91       496\n",
            "  Walking Upstairs       0.87      0.90      0.89       471\n",
            "Walking Downstairs       0.97      0.77      0.86       420\n",
            "           Sitting       0.92      0.88      0.90       491\n",
            "          Standing       0.90      0.93      0.92       532\n",
            "            Laying       1.00      1.00      1.00       537\n",
            "\n",
            "          accuracy                           0.92      2947\n",
            "         macro avg       0.92      0.91      0.91      2947\n",
            "      weighted avg       0.92      0.92      0.91      2947\n",
            "\n",
            "Chebyshev\n",
            "                    precision    recall  f1-score   support\n",
            "\n",
            "           Walking       0.56      0.92      0.69       496\n",
            "  Walking Upstairs       0.81      0.60      0.69       471\n",
            "Walking Downstairs       0.74      0.42      0.53       420\n",
            "           Sitting       0.70      0.80      0.75       491\n",
            "          Standing       0.81      0.72      0.76       532\n",
            "            Laying       1.00      0.94      0.97       537\n",
            "\n",
            "          accuracy                           0.75      2947\n",
            "         macro avg       0.77      0.73      0.73      2947\n",
            "      weighted avg       0.77      0.75      0.74      2947\n",
            "\n"
          ]
        }
      ],
      "source": [
        "from sklearn.metrics import classification_report, accuracy_score\n",
        "target_names = ['Walking', 'Walking Upstairs', 'Walking Downstairs', 'Sitting', 'Standing', 'Laying']\n",
        "\n",
        "print('Euclidian')\n",
        "print(classification_report(test_y, knn_results['euclidean'], target_names=target_names))\n",
        "print('Manhattan')\n",
        "print(classification_report(test_y, knn_results['manhattan'], target_names=target_names))\n",
        "print('Chebyshev')\n",
        "print(classification_report(test_y, knn_results['chebyshev'], target_names=target_names))"
      ]
    },
    {
      "cell_type": "code",
      "source": [
        "metrics = [\"euclidean\", \"manhattan\", \"chebyshev\"]\n",
        "accuracies = []\n",
        "for metric in metrics:\n",
        "  accuracies.append(accuracy_score(test_y, knn_results[metric]))\n",
        "plt.figure(figsize=(8, 6))\n",
        "plt.bar(metrics, accuracies, color='skyblue')\n",
        "plt.xlabel('Metric', fontsize=14)\n",
        "plt.ylabel('Accuracy', fontsize=14)\n",
        "plt.title('Comparison of KNN Model with Different Metrics', fontsize=16)\n",
        "plt.ylim(0, 1)\n",
        "for i, acc in enumerate(accuracies):\n",
        "    plt.text(i, acc + 0.01, f\"{acc:.2f}\", ha='center', fontsize=12)\n",
        "plt.show()"
      ],
      "metadata": {
        "colab": {
          "base_uri": "https://localhost:8080/",
          "height": 571
        },
        "id": "vrPySclSolG1",
        "outputId": "e9ed1254-b941-464a-e842-5ead99ebd5e0"
      },
      "execution_count": 54,
      "outputs": [
        {
          "output_type": "display_data",
          "data": {
            "text/plain": [
              "<Figure size 800x600 with 1 Axes>"
            ],
            "image/png": "[encoded data removed]"
          },
          "metadata": {}
        }
      ]
    },
    {
      "cell_type": "code",
      "source": [
        "target_names = ['Walking', 'Walking Upstairs', 'Walking Downstairs', 'Sitting', 'Standing', 'Laying']\n",
        "\n",
        "print('Gaussian')\n",
        "print(classification_report(test_y, bayes_results['gaussian'], target_names=target_names))\n",
        "print('Bernoulli')\n",
        "print(classification_report(test_y, bayes_results['bernoulli'], target_names=target_names))"
      ],
      "metadata": {
        "colab": {
          "base_uri": "https://localhost:8080/"
        },
        "id": "L4-Tyb-2eoIJ",
        "outputId": "e614d39a-d437-40f3-930a-076a453aeb14"
      },
      "execution_count": 43,
      "outputs": [
        {
          "output_type": "stream",
          "name": "stdout",
          "text": [
            "Gaussian\n",
            "                    precision    recall  f1-score   support\n",
            "\n",
            "           Walking       0.82      0.84      0.83       496\n",
            "  Walking Upstairs       0.76      0.96      0.84       471\n",
            "Walking Downstairs       0.83      0.61      0.70       420\n",
            "           Sitting       0.58      0.75      0.65       491\n",
            "          Standing       0.80      0.86      0.83       532\n",
            "            Laying       0.96      0.60      0.74       537\n",
            "\n",
            "          accuracy                           0.77      2947\n",
            "         macro avg       0.79      0.77      0.77      2947\n",
            "      weighted avg       0.79      0.77      0.77      2947\n",
            "\n",
            "Bernoulli\n",
            "                    precision    recall  f1-score   support\n",
            "\n",
            "           Walking       0.75      0.91      0.82       496\n",
            "  Walking Upstairs       0.83      0.89      0.86       471\n",
            "Walking Downstairs       0.85      0.59      0.70       420\n",
            "           Sitting       0.88      0.75      0.81       491\n",
            "          Standing       0.80      0.90      0.85       532\n",
            "            Laying       1.00      1.00      1.00       537\n",
            "\n",
            "          accuracy                           0.85      2947\n",
            "         macro avg       0.85      0.84      0.84      2947\n",
            "      weighted avg       0.86      0.85      0.85      2947\n",
            "\n"
          ]
        }
      ]
    },
    {
      "cell_type": "code",
      "source": [
        "distributions = [\"gaussian\", \"bernoulli\"]\n",
        "accuracies = []\n",
        "for distribution in distributions:\n",
        "  accuracies.append(accuracy_score(test_y, bayes_results[distribution]))\n",
        "plt.figure(figsize=(8, 6))\n",
        "plt.bar(distributions, accuracies, color='skyblue')\n",
        "plt.xlabel('Distribution', fontsize=14)\n",
        "plt.ylabel('Accuracy', fontsize=14)\n",
        "plt.title('Comparison of Naive Bayes Model with Different Distributions', fontsize=16)\n",
        "plt.ylim(0, 1)\n",
        "for i, acc in enumerate(accuracies):\n",
        "    plt.text(i, acc + 0.01, f\"{acc:.2f}\", ha='center', fontsize=12)\n",
        "plt.show()"
      ],
      "metadata": {
        "colab": {
          "base_uri": "https://localhost:8080/",
          "height": 571
        },
        "id": "HC7R1lyYqHLT",
        "outputId": "2039fee2-ca3e-486e-81c8-04c6ca840d53"
      },
      "execution_count": 48,
      "outputs": [
        {
          "output_type": "display_data",
          "data": {
            "text/plain": [
              "<Figure size 800x600 with 1 Axes>"
            ],
            "image/png": "[encoded data removed]"
          },
          "metadata": {}
        }
      ]
    },
    {
      "cell_type": "code",
      "source": [
        "target_names = ['Walking', 'Walking Upstairs', 'Walking Downstairs', 'Sitting', 'Standing', 'Laying']\n",
        "\n",
        "print('Linear')\n",
        "print(classification_report(test_y, svm_results['linear'], target_names=target_names))\n",
        "print('RBF')\n",
        "print(classification_report(test_y, svm_results['rbf'], target_names=target_names))"
      ],
      "metadata": {
        "colab": {
          "base_uri": "https://localhost:8080/"
        },
        "id": "EkDNVsLpeuhP",
        "outputId": "0d70322d-c109-41fd-fc52-68b00072ff63"
      },
      "execution_count": 46,
      "outputs": [
        {
          "output_type": "stream",
          "name": "stdout",
          "text": [
            "Linear\n",
            "                    precision    recall  f1-score   support\n",
            "\n",
            "           Walking       0.96      0.99      0.97       496\n",
            "  Walking Upstairs       0.98      0.96      0.97       471\n",
            "Walking Downstairs       0.99      0.98      0.98       420\n",
            "           Sitting       0.96      0.89      0.92       491\n",
            "          Standing       0.91      0.97      0.94       532\n",
            "            Laying       1.00      1.00      1.00       537\n",
            "\n",
            "          accuracy                           0.96      2947\n",
            "         macro avg       0.97      0.96      0.96      2947\n",
            "      weighted avg       0.96      0.96      0.96      2947\n",
            "\n",
            "RBF\n",
            "                    precision    recall  f1-score   support\n",
            "\n",
            "           Walking       0.94      0.98      0.96       496\n",
            "  Walking Upstairs       0.93      0.96      0.94       471\n",
            "Walking Downstairs       0.99      0.91      0.95       420\n",
            "           Sitting       0.94      0.89      0.91       491\n",
            "          Standing       0.91      0.95      0.93       532\n",
            "            Laying       1.00      1.00      1.00       537\n",
            "\n",
            "          accuracy                           0.95      2947\n",
            "         macro avg       0.95      0.95      0.95      2947\n",
            "      weighted avg       0.95      0.95      0.95      2947\n",
            "\n"
          ]
        }
      ]
    },
    {
      "cell_type": "code",
      "source": [
        "kernels = [\"linear\", \"rbf\"]\n",
        "accuracies = []\n",
        "for kernel in kernels:\n",
        "  accuracies.append(accuracy_score(test_y, svm_results[kernel]))\n",
        "plt.figure(figsize=(8, 6))\n",
        "plt.bar(kernels, accuracies, color='skyblue')\n",
        "plt.xlabel('Kernel', fontsize=14)\n",
        "plt.ylabel('Accuracy', fontsize=14)\n",
        "plt.title('Comparison of SVM Model with Different Kernels', fontsize=16)\n",
        "plt.ylim(0, 1)\n",
        "for i, acc in enumerate(accuracies):\n",
        "    plt.text(i, acc + 0.01, f\"{acc:.2f}\", ha='center', fontsize=12)\n",
        "plt.show()"
      ],
      "metadata": {
        "colab": {
          "base_uri": "https://localhost:8080/",
          "height": 571
        },
        "id": "YWAgmLuErs6x",
        "outputId": "6214751c-ac55-4aa8-e2dc-55906fa7a353"
      },
      "execution_count": 47,
      "outputs": [
        {
          "output_type": "display_data",
          "data": {
            "text/plain": [
              "<Figure size 800x600 with 1 Axes>"
            ],
            "image/png": "[encoded data removed]"
          },
          "metadata": {}
        }
      ]
    },
    {
      "cell_type": "markdown",
      "source": [
        "Получили лучшую точность от моделей класса SVM. При этом модель SVM с гиперпараметром `kernel=linear` показала наибольшую точность (96%)"
      ],
      "metadata": {
        "id": "krNBeqUtvW33"
      }
    }
  ],
  "metadata": {
    "datalore": {
      "computation_mode": "JUPYTER",
      "packages": [],
      "report_row_ids": [],
      "version": 3
    },
    "kernelspec": {
      "display_name": "Python",
      "language": "python",
      "name": "python"
    },
    "colab": {
      "provenance": []
    }
  },
  "nbformat": 4,
  "nbformat_minor": 0
}