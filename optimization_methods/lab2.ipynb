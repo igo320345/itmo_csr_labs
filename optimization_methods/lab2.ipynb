{
 "cells": [
  {
   "cell_type": "markdown",
   "metadata": {},
   "source": [
    "# Лабораторная работа №2"
   ]
  },
  {
   "cell_type": "code",
   "execution_count": 1,
   "metadata": {},
   "outputs": [],
   "source": [
    "import numpy as np\n",
    "import matplotlib.pyplot as plt\n",
    "import scipy as sp\n",
    "from sympy import Matrix"
   ]
  },
  {
   "cell_type": "code",
   "execution_count": 2,
   "metadata": {},
   "outputs": [],
   "source": [
    "m = 64\n",
    "A = sp.linalg.hilbert(m)\n",
    "x = np.array([1.0] * m)\n",
    "b = A @ x"
   ]
  },
  {
   "cell_type": "markdown",
   "metadata": {},
   "source": [
    "## Часть 1"
   ]
  },
  {
   "cell_type": "markdown",
   "metadata": {},
   "source": [
    "### Точное решение"
   ]
  },
  {
   "cell_type": "markdown",
   "metadata": {},
   "source": [
    "Через нахождение обратной матрицы"
   ]
  },
  {
   "cell_type": "code",
   "execution_count": 3,
   "metadata": {},
   "outputs": [
    {
     "data": {
      "text/latex": [
       "$\\displaystyle \\left[\\begin{matrix}-22.1248123645782\\\\13802.7852630615\\\\-134811.267578125\\\\-1038235.78125\\\\16057473.5\\\\-30001420.0\\\\-442548032.0\\\\3468445184.0\\\\-12425500928.0\\\\26698219904.0\\\\-35885598848.0\\\\27230312064.0\\\\-3412870912.0\\\\-16138472704.0\\\\17493142656.0\\\\-6914123520.0\\\\-1308072576.0\\\\2327564096.0\\\\-344768992.0\\\\-1124061952.0\\\\1581372576.0\\\\-1131713280.0\\\\359441840.0\\\\-13345728.0\\\\20192128.0\\\\-62579520.0\\\\88908528.0\\\\-56772352.0\\\\-7080064.0\\\\11238016.0\\\\9814784.0\\\\3852800.0\\\\-16517376.0\\\\3589760.0\\\\4620160.0\\\\-1988224.0\\\\916096.0\\\\-606208.0\\\\609440.0\\\\-498880.0\\\\-188704.0\\\\10944.0\\\\142208.0\\\\155000.0\\\\-205768.0\\\\111360.0\\\\-36480.0\\\\-44960.0\\\\32232.0\\\\26320.0\\\\-14208.0\\\\-4544.0\\\\-576.0\\\\736.0\\\\-512.0\\\\2176.0\\\\-1536.0\\\\-512.0\\\\1408.0\\\\-256.0\\\\-448.0\\\\128.0\\\\-256.0\\\\-64.0\\end{matrix}\\right]$"
      ],
      "text/plain": [
       "Matrix([\n",
       "[-22.1248123645782],\n",
       "[ 13802.7852630615],\n",
       "[-134811.267578125],\n",
       "[   -1038235.78125],\n",
       "[       16057473.5],\n",
       "[      -30001420.0],\n",
       "[     -442548032.0],\n",
       "[     3468445184.0],\n",
       "[   -12425500928.0],\n",
       "[    26698219904.0],\n",
       "[   -35885598848.0],\n",
       "[    27230312064.0],\n",
       "[    -3412870912.0],\n",
       "[   -16138472704.0],\n",
       "[    17493142656.0],\n",
       "[    -6914123520.0],\n",
       "[    -1308072576.0],\n",
       "[     2327564096.0],\n",
       "[     -344768992.0],\n",
       "[    -1124061952.0],\n",
       "[     1581372576.0],\n",
       "[    -1131713280.0],\n",
       "[      359441840.0],\n",
       "[      -13345728.0],\n",
       "[       20192128.0],\n",
       "[      -62579520.0],\n",
       "[       88908528.0],\n",
       "[      -56772352.0],\n",
       "[       -7080064.0],\n",
       "[       11238016.0],\n",
       "[        9814784.0],\n",
       "[        3852800.0],\n",
       "[      -16517376.0],\n",
       "[        3589760.0],\n",
       "[        4620160.0],\n",
       "[       -1988224.0],\n",
       "[         916096.0],\n",
       "[        -606208.0],\n",
       "[         609440.0],\n",
       "[        -498880.0],\n",
       "[        -188704.0],\n",
       "[          10944.0],\n",
       "[         142208.0],\n",
       "[         155000.0],\n",
       "[        -205768.0],\n",
       "[         111360.0],\n",
       "[         -36480.0],\n",
       "[         -44960.0],\n",
       "[          32232.0],\n",
       "[          26320.0],\n",
       "[         -14208.0],\n",
       "[          -4544.0],\n",
       "[           -576.0],\n",
       "[            736.0],\n",
       "[           -512.0],\n",
       "[           2176.0],\n",
       "[          -1536.0],\n",
       "[           -512.0],\n",
       "[           1408.0],\n",
       "[           -256.0],\n",
       "[           -448.0],\n",
       "[            128.0],\n",
       "[           -256.0],\n",
       "[            -64.0]])"
      ]
     },
     "execution_count": 3,
     "metadata": {},
     "output_type": "execute_result"
    }
   ],
   "source": [
    "Matrix(np.linalg.inv(A) @ b)"
   ]
  },
  {
   "cell_type": "markdown",
   "metadata": {},
   "source": [
    "### Решение методом градиентного спуска"
   ]
  },
  {
   "cell_type": "code",
   "execution_count": 4,
   "metadata": {},
   "outputs": [],
   "source": [
    "def f(x):\n",
    "    return 1 / 2 * x.T @ A @ x - b.T @ x"
   ]
  },
  {
   "cell_type": "code",
   "execution_count": 5,
   "metadata": {},
   "outputs": [],
   "source": [
    "def gradient(x):\n",
    "    return A @ x - b"
   ]
  },
  {
   "cell_type": "code",
   "execution_count": 6,
   "metadata": {},
   "outputs": [],
   "source": [
    "sol = np.array([0.0] * m)\n",
    "err = np.inf\n",
    "k = 0\n",
    "h = 0.01\n",
    "err_gd = []\n",
    "while err > 0.01:\n",
    "    sol = sol - h * gradient(sol)\n",
    "    err = np.linalg.norm(gradient(sol))\n",
    "    err_gd.append(err)\n",
    "    k += 1"
   ]
  },
  {
   "cell_type": "code",
   "execution_count": 7,
   "metadata": {},
   "outputs": [
    {
     "data": {
      "text/plain": [
       "3994"
      ]
     },
     "execution_count": 7,
     "metadata": {},
     "output_type": "execute_result"
    }
   ],
   "source": [
    "k"
   ]
  },
  {
   "cell_type": "code",
   "execution_count": 8,
   "metadata": {},
   "outputs": [
    {
     "data": {
      "text/latex": [
       "$\\displaystyle \\left[\\begin{matrix}1.03228393433664\\\\0.992114574538326\\\\0.947644618871148\\\\0.933498617637096\\\\0.936492088247347\\\\0.947827091296479\\\\0.962690624746745\\\\0.978507086473109\\\\0.993912023311288\\\\1.00820444091197\\\\1.02105262630593\\\\1.03233233703032\\\\1.04203561876863\\\\1.05021838680978\\\\1.05696986534254\\\\1.06239464573267\\\\1.06660217289535\\\\1.06970067027473\\\\1.07179374453276\\\\1.07297861623209\\\\1.07334533588307\\\\1.07297659140271\\\\1.07194786280725\\\\1.07032777218563\\\\1.06817853445155\\\\1.06555645048591\\\\1.06251240712788\\\\1.05909236297703\\\\1.05533780817465\\\\1.05128619215201\\\\1.04697131697256\\\\1.04242369612971\\\\1.03767087998896\\\\1.03273774980664\\\\1.02764678262789\\\\1.02241828950182\\\\1.01707062944174\\\\1.0116204014624\\\\1.00608261688155\\\\1.00047085390657\\\\0.994797396350633\\\\0.989073358150405\\\\0.983308795191204\\\\0.977512805791021\\\\0.971693621052077\\\\0.965858686159051\\\\0.960014733585767\\\\0.95416784906693\\\\0.948323531097275\\\\0.942486744636601\\\\0.936661969624225\\\\0.930853244840383\\\\0.925064207592746\\\\0.919298129654353\\\\0.913557949832731\\\\0.907846303508887\\\\0.902165549448696\\\\0.896517794156538\\\\0.89090491401276\\\\0.885328575410844\\\\0.879790253087801\\\\0.874291246820909\\\\0.868832696646461\\\\0.863415596740013\\end{matrix}\\right]$"
      ],
      "text/plain": [
       "Matrix([\n",
       "[ 1.03228393433664],\n",
       "[0.992114574538326],\n",
       "[0.947644618871148],\n",
       "[0.933498617637096],\n",
       "[0.936492088247347],\n",
       "[0.947827091296479],\n",
       "[0.962690624746745],\n",
       "[0.978507086473109],\n",
       "[0.993912023311288],\n",
       "[ 1.00820444091197],\n",
       "[ 1.02105262630593],\n",
       "[ 1.03233233703032],\n",
       "[ 1.04203561876863],\n",
       "[ 1.05021838680978],\n",
       "[ 1.05696986534254],\n",
       "[ 1.06239464573267],\n",
       "[ 1.06660217289535],\n",
       "[ 1.06970067027473],\n",
       "[ 1.07179374453276],\n",
       "[ 1.07297861623209],\n",
       "[ 1.07334533588307],\n",
       "[ 1.07297659140271],\n",
       "[ 1.07194786280725],\n",
       "[ 1.07032777218563],\n",
       "[ 1.06817853445155],\n",
       "[ 1.06555645048591],\n",
       "[ 1.06251240712788],\n",
       "[ 1.05909236297703],\n",
       "[ 1.05533780817465],\n",
       "[ 1.05128619215201],\n",
       "[ 1.04697131697256],\n",
       "[ 1.04242369612971],\n",
       "[ 1.03767087998896],\n",
       "[ 1.03273774980664],\n",
       "[ 1.02764678262789],\n",
       "[ 1.02241828950182],\n",
       "[ 1.01707062944174],\n",
       "[  1.0116204014624],\n",
       "[ 1.00608261688155],\n",
       "[ 1.00047085390657],\n",
       "[0.994797396350633],\n",
       "[0.989073358150405],\n",
       "[0.983308795191204],\n",
       "[0.977512805791021],\n",
       "[0.971693621052077],\n",
       "[0.965858686159051],\n",
       "[0.960014733585767],\n",
       "[ 0.95416784906693],\n",
       "[0.948323531097275],\n",
       "[0.942486744636601],\n",
       "[0.936661969624225],\n",
       "[0.930853244840383],\n",
       "[0.925064207592746],\n",
       "[0.919298129654353],\n",
       "[0.913557949832731],\n",
       "[0.907846303508887],\n",
       "[0.902165549448696],\n",
       "[0.896517794156538],\n",
       "[ 0.89090491401276],\n",
       "[0.885328575410844],\n",
       "[0.879790253087801],\n",
       "[0.874291246820909],\n",
       "[0.868832696646461],\n",
       "[0.863415596740013]])"
      ]
     },
     "execution_count": 8,
     "metadata": {},
     "output_type": "execute_result"
    }
   ],
   "source": [
    "Matrix(sol)"
   ]
  },
  {
   "cell_type": "code",
   "execution_count": 30,
   "metadata": {},
   "outputs": [
    {
     "data": {
      "image/png": "[encoded data removed]",
      "text/plain": [
       "<Figure size 640x480 with 1 Axes>"
      ]
     },
     "metadata": {},
     "output_type": "display_data"
    }
   ],
   "source": [
    "plt.semilogy(range(len(err_gd)), err_gd, label = 'GD')\n",
    "plt.xlabel('iterations')\n",
    "plt.ylabel('error')\n",
    "plt.grid(True)"
   ]
  },
  {
   "cell_type": "markdown",
   "metadata": {},
   "source": [
    "### Решение методом сопряженных градиентов"
   ]
  },
  {
   "cell_type": "markdown",
   "metadata": {},
   "source": [
    "Метод Хестенса-Штифеля"
   ]
  },
  {
   "cell_type": "code",
   "execution_count": 9,
   "metadata": {},
   "outputs": [],
   "source": [
    "X = [0] * (m + 1)\n",
    "X[0] = np.array([0.0] * m)\n",
    "G = [0] * (m + 1)\n",
    "G[0] = A @ X[0] - b\n",
    "S = [0] * (m + 2)\n",
    "S[1]= -G[0]\n",
    "a = [0] * (m + 1)\n",
    "alpha = [0] * (m + 1)\n",
    "beta = [0] * (m + 1)\n",
    "err_hs = []"
   ]
  },
  {
   "cell_type": "code",
   "execution_count": 10,
   "metadata": {},
   "outputs": [],
   "source": [
    "for k in range(1, m + 1):\n",
    "    a[k] = A @ S[k]\n",
    "    alpha[k] = -(G[k - 1] @ S[k]) / (a[k] @ S[k])\n",
    "    X[k] = X[k - 1] + alpha[k] * S[k]\n",
    "    G[k] = A @ X[k] - b\n",
    "    beta[k] = G[k] @ a[k] / (S[k] @ a[k])\n",
    "    S[k + 1] = -G[k] + beta[k] * S[k]\n",
    "    err_hs.append(np.linalg.norm(X[k] - x))"
   ]
  },
  {
   "cell_type": "code",
   "execution_count": 11,
   "metadata": {},
   "outputs": [
    {
     "data": {
      "text/latex": [
       "$\\displaystyle \\left[\\begin{matrix}1.00000006061421\\\\0.999997512458569\\\\1.0000242860204\\\\0.999915524930181\\\\1.00008956403182\\\\1.00004565958666\\\\0.99995492249274\\\\0.999926179295806\\\\0.99995607679661\\\\1.00000621702206\\\\1.00004618862159\\\\1.00006304785993\\\\1.00005722866896\\\\1.00003588381354\\\\1.00000779650645\\\\0.999980507668592\\\\0.999959168773978\\\\0.999946428909197\\\\0.999942850256685\\\\0.999947535698606\\\\0.999958680502413\\\\0.999974084526091\\\\0.999991535754626\\\\1.0000090198997\\\\1.00002490235181\\\\1.00003795338558\\\\1.00004734921328\\\\1.0000527311733\\\\1.000054018829\\\\1.00005146241489\\\\1.00004549036159\\\\1.00003673514668\\\\1.00002587966696\\\\1.00001368052623\\\\1.00000088755807\\\\0.99998821254275\\\\0.999976304882265\\\\0.999965745272717\\\\0.999957010645344\\\\0.999950466627765\\\\0.999946375035578\\\\0.999944888413418\\\\0.999946052993938\\\\0.999949811579006\\\\0.999956010085903\\\\0.999964390997793\\\\0.99997462253539\\\\0.999986306496692\\\\0.999998958251364\\\\1.0000120629237\\\\1.00002503552289\\\\1.00003725938424\\\\1.00004808419246\\\\1.00005683029007\\\\1.00006280616255\\\\1.000065298628\\\\1.00006359601223\\\\1.00005698612916\\\\1.00004475696848\\\\1.00002619935894\\\\1.00000061746983\\\\0.999967342347673\\\\0.999925710031191\\\\0.999875068002064\\end{matrix}\\right]$"
      ],
      "text/plain": [
       "Matrix([\n",
       "[ 1.00000006061421],\n",
       "[0.999997512458569],\n",
       "[  1.0000242860204],\n",
       "[0.999915524930181],\n",
       "[ 1.00008956403182],\n",
       "[ 1.00004565958666],\n",
       "[ 0.99995492249274],\n",
       "[0.999926179295806],\n",
       "[ 0.99995607679661],\n",
       "[ 1.00000621702206],\n",
       "[ 1.00004618862159],\n",
       "[ 1.00006304785993],\n",
       "[ 1.00005722866896],\n",
       "[ 1.00003588381354],\n",
       "[ 1.00000779650645],\n",
       "[0.999980507668592],\n",
       "[0.999959168773978],\n",
       "[0.999946428909197],\n",
       "[0.999942850256685],\n",
       "[0.999947535698606],\n",
       "[0.999958680502413],\n",
       "[0.999974084526091],\n",
       "[0.999991535754626],\n",
       "[  1.0000090198997],\n",
       "[ 1.00002490235181],\n",
       "[ 1.00003795338558],\n",
       "[ 1.00004734921328],\n",
       "[  1.0000527311733],\n",
       "[   1.000054018829],\n",
       "[ 1.00005146241489],\n",
       "[ 1.00004549036159],\n",
       "[ 1.00003673514668],\n",
       "[ 1.00002587966696],\n",
       "[ 1.00001368052623],\n",
       "[ 1.00000088755807],\n",
       "[ 0.99998821254275],\n",
       "[0.999976304882265],\n",
       "[0.999965745272717],\n",
       "[0.999957010645344],\n",
       "[0.999950466627765],\n",
       "[0.999946375035578],\n",
       "[0.999944888413418],\n",
       "[0.999946052993938],\n",
       "[0.999949811579006],\n",
       "[0.999956010085903],\n",
       "[0.999964390997793],\n",
       "[ 0.99997462253539],\n",
       "[0.999986306496692],\n",
       "[0.999998958251364],\n",
       "[  1.0000120629237],\n",
       "[ 1.00002503552289],\n",
       "[ 1.00003725938424],\n",
       "[ 1.00004808419246],\n",
       "[ 1.00005683029007],\n",
       "[ 1.00006280616255],\n",
       "[   1.000065298628],\n",
       "[ 1.00006359601223],\n",
       "[ 1.00005698612916],\n",
       "[ 1.00004475696848],\n",
       "[ 1.00002619935894],\n",
       "[ 1.00000061746983],\n",
       "[0.999967342347673],\n",
       "[0.999925710031191],\n",
       "[0.999875068002064]])"
      ]
     },
     "execution_count": 11,
     "metadata": {},
     "output_type": "execute_result"
    }
   ],
   "source": [
    "Matrix(X[-1])"
   ]
  },
  {
   "cell_type": "code",
   "execution_count": 29,
   "metadata": {},
   "outputs": [
    {
     "data": {
      "image/png": "[encoded data removed]",
      "text/plain": [
       "<Figure size 640x480 with 1 Axes>"
      ]
     },
     "metadata": {},
     "output_type": "display_data"
    }
   ],
   "source": [
    "plt.semilogy(range(len(err_hs)), err_hs, label = 'HS')\n",
    "plt.xlabel('iterations')\n",
    "plt.ylabel('error')\n",
    "plt.grid(True)"
   ]
  },
  {
   "cell_type": "markdown",
   "metadata": {},
   "source": [
    "## Часть 2"
   ]
  },
  {
   "cell_type": "markdown",
   "metadata": {},
   "source": [
    "### Решение методом сопряженных градиентов"
   ]
  },
  {
   "cell_type": "markdown",
   "metadata": {},
   "source": [
    "Метод Флетчера-Ривса"
   ]
  },
  {
   "cell_type": "code",
   "execution_count": 40,
   "metadata": {},
   "outputs": [],
   "source": [
    "X = np.array([0.0] * m)\n",
    "G = A @ X - b\n",
    "G_prev = 0\n",
    "S = -G\n",
    "err_fr = []\n",
    "err = np.inf\n",
    "k = 1\n",
    "while err > 0.0005:\n",
    "    a = A @ S\n",
    "    alpha = -(G @ S) / (a @ S)\n",
    "    G_prev = G\n",
    "    X = X + alpha * S\n",
    "    G = A @ X - b\n",
    "    beta = (G @ G) / (G_prev @ G_prev)\n",
    "    S = -G + beta * S\n",
    "    err = np.linalg.norm(X - x)\n",
    "    err_fr.append(err)\n",
    "    k += 1"
   ]
  },
  {
   "cell_type": "code",
   "execution_count": 41,
   "metadata": {},
   "outputs": [
    {
     "data": {
      "text/plain": [
       "42"
      ]
     },
     "execution_count": 41,
     "metadata": {},
     "output_type": "execute_result"
    }
   ],
   "source": [
    "k"
   ]
  },
  {
   "cell_type": "code",
   "execution_count": 42,
   "metadata": {},
   "outputs": [
    {
     "data": {
      "text/latex": [
       "$\\displaystyle \\left[\\begin{matrix}1.00000004231321\\\\0.999997496945563\\\\1.00002461584909\\\\0.999915679424927\\\\1.00008889271766\\\\1.00004509052029\\\\0.999954863748015\\\\0.999926507245051\\\\0.999956542193021\\\\1.00000661869424\\\\1.00004642938988\\\\1.00006311660625\\\\1.00005716059625\\\\1.00003573547177\\\\1.0000076182662\\\\0.999980348053859\\\\0.999959050401811\\\\0.999946363145141\\\\0.999942839674174\\\\0.999947562783151\\\\0.999958729280921\\\\0.999974149872933\\\\0.999991606259127\\\\1.0000090762239\\\\1.00002493364736\\\\1.00003795202443\\\\1.00004731351389\\\\1.00005265764717\\\\1.00005390930455\\\\1.00005132055326\\\\1.0000453298198\\\\1.00003655706529\\\\1.00002569390911\\\\1.00001350172421\\\\1.00000072206461\\\\0.999988058897432\\\\0.999976185302586\\\\0.999965663304234\\\\0.999956968133605\\\\0.999950469787526\\\\0.999946426761858\\\\0.999944994386833\\\\0.999946209959321\\\\0.999950020042711\\\\0.999956267109534\\\\0.999964688449226\\\\0.99997495679269\\\\0.999986669714516\\\\0.999999340639019\\\\1.00001245116927\\\\1.00002542336318\\\\1.00003763385548\\\\1.00004842957323\\\\1.00005713505632\\\\1.00006305396493\\\\1.00006547573447\\\\1.00006368779597\\\\1.00005697510487\\\\1.00004462858318\\\\1.00002592959809\\\\1.00000019650211\\\\0.99996674661788\\\\0.999924925902851\\\\0.999874075374381\\end{matrix}\\right]$"
      ],
      "text/plain": [
       "Matrix([\n",
       "[ 1.00000004231321],\n",
       "[0.999997496945563],\n",
       "[ 1.00002461584909],\n",
       "[0.999915679424927],\n",
       "[ 1.00008889271766],\n",
       "[ 1.00004509052029],\n",
       "[0.999954863748015],\n",
       "[0.999926507245051],\n",
       "[0.999956542193021],\n",
       "[ 1.00000661869424],\n",
       "[ 1.00004642938988],\n",
       "[ 1.00006311660625],\n",
       "[ 1.00005716059625],\n",
       "[ 1.00003573547177],\n",
       "[  1.0000076182662],\n",
       "[0.999980348053859],\n",
       "[0.999959050401811],\n",
       "[0.999946363145141],\n",
       "[0.999942839674174],\n",
       "[0.999947562783151],\n",
       "[0.999958729280921],\n",
       "[0.999974149872933],\n",
       "[0.999991606259127],\n",
       "[  1.0000090762239],\n",
       "[ 1.00002493364736],\n",
       "[ 1.00003795202443],\n",
       "[ 1.00004731351389],\n",
       "[ 1.00005265764717],\n",
       "[ 1.00005390930455],\n",
       "[ 1.00005132055326],\n",
       "[  1.0000453298198],\n",
       "[ 1.00003655706529],\n",
       "[ 1.00002569390911],\n",
       "[ 1.00001350172421],\n",
       "[ 1.00000072206461],\n",
       "[0.999988058897432],\n",
       "[0.999976185302586],\n",
       "[0.999965663304234],\n",
       "[0.999956968133605],\n",
       "[0.999950469787526],\n",
       "[0.999946426761858],\n",
       "[0.999944994386833],\n",
       "[0.999946209959321],\n",
       "[0.999950020042711],\n",
       "[0.999956267109534],\n",
       "[0.999964688449226],\n",
       "[ 0.99997495679269],\n",
       "[0.999986669714516],\n",
       "[0.999999340639019],\n",
       "[ 1.00001245116927],\n",
       "[ 1.00002542336318],\n",
       "[ 1.00003763385548],\n",
       "[ 1.00004842957323],\n",
       "[ 1.00005713505632],\n",
       "[ 1.00006305396493],\n",
       "[ 1.00006547573447],\n",
       "[ 1.00006368779597],\n",
       "[ 1.00005697510487],\n",
       "[ 1.00004462858318],\n",
       "[ 1.00002592959809],\n",
       "[ 1.00000019650211],\n",
       "[ 0.99996674661788],\n",
       "[0.999924925902851],\n",
       "[0.999874075374381]])"
      ]
     },
     "execution_count": 42,
     "metadata": {},
     "output_type": "execute_result"
    }
   ],
   "source": [
    "Matrix(X)"
   ]
  },
  {
   "cell_type": "code",
   "execution_count": 43,
   "metadata": {},
   "outputs": [
    {
     "data": {
      "image/png": "[encoded data removed]",
      "text/plain": [
       "<Figure size 640x480 with 1 Axes>"
      ]
     },
     "metadata": {},
     "output_type": "display_data"
    }
   ],
   "source": [
    "plt.semilogy(range(len(err_fr)), err_fr, label = 'FR')\n",
    "plt.xlabel('iterations')\n",
    "plt.ylabel('error')\n",
    "plt.grid(True)"
   ]
  },
  {
   "cell_type": "markdown",
   "metadata": {},
   "source": [
    "## Часть 3"
   ]
  },
  {
   "cell_type": "markdown",
   "metadata": {},
   "source": [
    "### Метод тяжелого шарика"
   ]
  },
  {
   "cell_type": "code",
   "execution_count": 15,
   "metadata": {},
   "outputs": [],
   "source": [
    "X =[np.array([0.0] * m), np.array([0.0] * m)]\n",
    "err_hb = []\n",
    "err = np.inf\n",
    "k = 2\n",
    "while err > 0.01:\n",
    "    alpha = 0.9\n",
    "    beta = 0.9\n",
    "    X.append(X[k - 1] - alpha * gradient(X[k - 1]) + beta * (X[k - 1] - X[k - 2]))\n",
    "    err = np.linalg.norm(X[k] - x)\n",
    "    err_hb.append(err)\n",
    "    k += 1"
   ]
  },
  {
   "cell_type": "code",
   "execution_count": 17,
   "metadata": {},
   "outputs": [
    {
     "data": {
      "text/plain": [
       "10605"
      ]
     },
     "execution_count": 17,
     "metadata": {},
     "output_type": "execute_result"
    }
   ],
   "source": [
    "k"
   ]
  },
  {
   "cell_type": "code",
   "execution_count": 16,
   "metadata": {},
   "outputs": [
    {
     "data": {
      "text/latex": [
       "$\\displaystyle \\left[\\begin{matrix}1.00001901314877\\\\0.999830994676693\\\\0.999872617492156\\\\1.00111416729931\\\\1.00038989838975\\\\0.999332315583113\\\\0.998776219589285\\\\0.998807755125932\\\\0.999233851473101\\\\0.999828389068347\\\\1.00041850449161\\\\1.00089865771969\\\\1.00121923507153\\\\1.00136974654859\\\\1.00136386864704\\\\1.00122818956962\\\\1.00099450602284\\\\1.00069493412619\\\\1.00035905383162\\\\1.00001243870489\\\\0.999676084313293\\\\0.999366390518\\\\0.999095463175726\\\\0.998871580125061\\\\0.99869972345515\\\\0.998582117256504\\\\0.998518736225392\\\\0.99850776713146\\\\0.998546014436191\\\\0.998629250048922\\\\0.998752508437805\\\\0.998910332428073\\\\0.999096974440915\\\\0.999306559266206\\\\0.999533213328378\\\\0.999771165867568\\\\1.00001482635955\\\\1.00025884223358\\\\1.00049814027961\\\\1.00072795489996\\\\1.00094384558418\\\\1.00114170584471\\\\1.00131776529083\\\\1.00146858644194\\\\1.00159105747767\\\\1.00168238187224\\\\1.00174006586259\\\\1.00176190432995\\\\1.00174596556796\\\\1.00169057567925\\\\1.00159430244716\\\\1.0014559394364\\\\1.00127449024221\\\\1.00104915313073\\\\1.0007793062257\\\\1.00046449317696\\\\1.00010440963747\\\\0.999698890300144\\\\0.999247896651655\\\\0.998751505464273\\\\0.998209898016491\\\\0.997623349952379\\\\0.996992221829512\\\\0.996316950280607\\end{matrix}\\right]$"
      ],
      "text/plain": [
       "Matrix([\n",
       "[ 1.00001901314877],\n",
       "[0.999830994676693],\n",
       "[0.999872617492156],\n",
       "[ 1.00111416729931],\n",
       "[ 1.00038989838975],\n",
       "[0.999332315583113],\n",
       "[0.998776219589285],\n",
       "[0.998807755125932],\n",
       "[0.999233851473101],\n",
       "[0.999828389068347],\n",
       "[ 1.00041850449161],\n",
       "[ 1.00089865771969],\n",
       "[ 1.00121923507153],\n",
       "[ 1.00136974654859],\n",
       "[ 1.00136386864704],\n",
       "[ 1.00122818956962],\n",
       "[ 1.00099450602284],\n",
       "[ 1.00069493412619],\n",
       "[ 1.00035905383162],\n",
       "[ 1.00001243870489],\n",
       "[0.999676084313293],\n",
       "[   0.999366390518],\n",
       "[0.999095463175726],\n",
       "[0.998871580125061],\n",
       "[ 0.99869972345515],\n",
       "[0.998582117256504],\n",
       "[0.998518736225392],\n",
       "[ 0.99850776713146],\n",
       "[0.998546014436191],\n",
       "[0.998629250048922],\n",
       "[0.998752508437805],\n",
       "[0.998910332428073],\n",
       "[0.999096974440915],\n",
       "[0.999306559266206],\n",
       "[0.999533213328378],\n",
       "[0.999771165867568],\n",
       "[ 1.00001482635955],\n",
       "[ 1.00025884223358],\n",
       "[ 1.00049814027961],\n",
       "[ 1.00072795489996],\n",
       "[ 1.00094384558418],\n",
       "[ 1.00114170584471],\n",
       "[ 1.00131776529083],\n",
       "[ 1.00146858644194],\n",
       "[ 1.00159105747767],\n",
       "[ 1.00168238187224],\n",
       "[ 1.00174006586259],\n",
       "[ 1.00176190432995],\n",
       "[ 1.00174596556796],\n",
       "[ 1.00169057567925],\n",
       "[ 1.00159430244716],\n",
       "[  1.0014559394364],\n",
       "[ 1.00127449024221],\n",
       "[ 1.00104915313073],\n",
       "[  1.0007793062257],\n",
       "[ 1.00046449317696],\n",
       "[ 1.00010440963747],\n",
       "[0.999698890300144],\n",
       "[0.999247896651655],\n",
       "[0.998751505464273],\n",
       "[0.998209898016491],\n",
       "[0.997623349952379],\n",
       "[0.996992221829512],\n",
       "[0.996316950280607]])"
      ]
     },
     "execution_count": 16,
     "metadata": {},
     "output_type": "execute_result"
    }
   ],
   "source": [
    "Matrix(X[-1])"
   ]
  },
  {
   "cell_type": "code",
   "execution_count": 27,
   "metadata": {},
   "outputs": [
    {
     "data": {
      "image/png": "[encoded data removed]",
      "text/plain": [
       "<Figure size 640x480 with 1 Axes>"
      ]
     },
     "metadata": {},
     "output_type": "display_data"
    }
   ],
   "source": [
    "plt.semilogy(range(len(err_hb)), err_hb, label = 'HB')\n",
    "plt.xlabel('iterations')\n",
    "plt.ylabel('error')\n",
    "plt.grid(True)"
   ]
  },
  {
   "cell_type": "markdown",
   "metadata": {},
   "source": [
    "# Сравнение сходимости методов"
   ]
  },
  {
   "cell_type": "code",
   "execution_count": 44,
   "metadata": {},
   "outputs": [
    {
     "data": {
      "image/png": "[encoded data removed]",
      "text/plain": [
       "<Figure size 640x480 with 1 Axes>"
      ]
     },
     "metadata": {},
     "output_type": "display_data"
    }
   ],
   "source": [
    "plt.semilogy(range(len(err_gd)), err_gd, label = 'GD')\n",
    "plt.semilogy(range(len(err_hs)), err_hs, label = 'HS')\n",
    "plt.semilogy(range(len(err_fr)), err_fr, label = 'FR')\n",
    "plt.semilogy(range(len(err_hb)), err_hb, label = 'HB')\n",
    "plt.xlabel('iterations')\n",
    "plt.ylabel('error')\n",
    "plt.xlim(0, 100)\n",
    "plt.legend()\n",
    "plt.grid(True)"
   ]
  }
 ],
 "metadata": {
  "kernelspec": {
   "display_name": "Python 3",
   "language": "python",
   "name": "python3"
  },
  "language_info": {
   "codemirror_mode": {
    "name": "ipython",
    "version": 3
   },
   "file_extension": ".py",
   "mimetype": "text/x-python",
   "name": "python",
   "nbconvert_exporter": "python",
   "pygments_lexer": "ipython3",
   "version": "3.12.1"
  }
 },
 "nbformat": 4,
 "nbformat_minor": 2
}
